{
 "cells": [
  {
   "cell_type": "code",
   "execution_count": 1,
   "metadata": {},
   "outputs": [],
   "source": [
    "import pandas as pd"
   ]
  },
  {
   "cell_type": "code",
   "execution_count": 7,
   "metadata": {},
   "outputs": [],
   "source": [
    "df = pd.read_excel('similarcompanies1.xlsx', header=2)"
   ]
  },
  {
   "cell_type": "code",
   "execution_count": 8,
   "metadata": {},
   "outputs": [
    {
     "data": {
      "text/html": [
       "<div>\n",
       "<style scoped>\n",
       "    .dataframe tbody tr th:only-of-type {\n",
       "        vertical-align: middle;\n",
       "    }\n",
       "\n",
       "    .dataframe tbody tr th {\n",
       "        vertical-align: top;\n",
       "    }\n",
       "\n",
       "    .dataframe thead th {\n",
       "        text-align: right;\n",
       "    }\n",
       "</style>\n",
       "<table border=\"1\" class=\"dataframe\">\n",
       "  <thead>\n",
       "    <tr style=\"text-align: right;\">\n",
       "      <th></th>\n",
       "      <th>Company_Name</th>\n",
       "      <th>Company_Tags</th>\n",
       "      <th>Sum</th>\n",
       "      <th>IT Services &amp; Consulting</th>\n",
       "      <th>Software Product</th>\n",
       "      <th>Internet</th>\n",
       "      <th>E-Learning / EdTech</th>\n",
       "      <th>FinTech / Payments</th>\n",
       "      <th>Financial Services</th>\n",
       "      <th>Pharmaceutical &amp; Life Sciences</th>\n",
       "      <th>...</th>\n",
       "      <th>Content Development / Language</th>\n",
       "      <th>Import &amp; Export</th>\n",
       "      <th>Emerging Technologies</th>\n",
       "      <th>Biotechnology</th>\n",
       "      <th>Architecture / Interior Design</th>\n",
       "      <th>Animation &amp; VFX</th>\n",
       "      <th>Events / Live Entertainment</th>\n",
       "      <th>Petrochemical / Plastics / Rubber</th>\n",
       "      <th>Design</th>\n",
       "      <th>Government / Public Administration</th>\n",
       "    </tr>\n",
       "  </thead>\n",
       "  <tbody>\n",
       "    <tr>\n",
       "      <th>0</th>\n",
       "      <td>Unisys</td>\n",
       "      <td>{'topCompany': ['TOP'], 'businessSize': ['Fore...</td>\n",
       "      <td>1</td>\n",
       "      <td>1</td>\n",
       "      <td>0</td>\n",
       "      <td>0</td>\n",
       "      <td>0</td>\n",
       "      <td>0</td>\n",
       "      <td>0</td>\n",
       "      <td>0</td>\n",
       "      <td>...</td>\n",
       "      <td>0</td>\n",
       "      <td>0</td>\n",
       "      <td>0</td>\n",
       "      <td>0</td>\n",
       "      <td>0</td>\n",
       "      <td>0</td>\n",
       "      <td>0</td>\n",
       "      <td>0</td>\n",
       "      <td>0</td>\n",
       "      <td>0</td>\n",
       "    </tr>\n",
       "    <tr>\n",
       "      <th>1</th>\n",
       "      <td>Atos</td>\n",
       "      <td>{'primaryIndustry': ['IT Services &amp; Consulting']}</td>\n",
       "      <td>1</td>\n",
       "      <td>1</td>\n",
       "      <td>0</td>\n",
       "      <td>0</td>\n",
       "      <td>0</td>\n",
       "      <td>0</td>\n",
       "      <td>0</td>\n",
       "      <td>0</td>\n",
       "      <td>...</td>\n",
       "      <td>0</td>\n",
       "      <td>0</td>\n",
       "      <td>0</td>\n",
       "      <td>0</td>\n",
       "      <td>0</td>\n",
       "      <td>0</td>\n",
       "      <td>0</td>\n",
       "      <td>0</td>\n",
       "      <td>0</td>\n",
       "      <td>0</td>\n",
       "    </tr>\n",
       "    <tr>\n",
       "      <th>2</th>\n",
       "      <td>NTT DATA Business Solutions Private Limited</td>\n",
       "      <td>{'topCompany': ['TOP'], 'businessSize': ['Fore...</td>\n",
       "      <td>1</td>\n",
       "      <td>1</td>\n",
       "      <td>0</td>\n",
       "      <td>0</td>\n",
       "      <td>0</td>\n",
       "      <td>0</td>\n",
       "      <td>0</td>\n",
       "      <td>0</td>\n",
       "      <td>...</td>\n",
       "      <td>0</td>\n",
       "      <td>0</td>\n",
       "      <td>0</td>\n",
       "      <td>0</td>\n",
       "      <td>0</td>\n",
       "      <td>0</td>\n",
       "      <td>0</td>\n",
       "      <td>0</td>\n",
       "      <td>0</td>\n",
       "      <td>0</td>\n",
       "    </tr>\n",
       "    <tr>\n",
       "      <th>3</th>\n",
       "      <td>Tech Mahindra</td>\n",
       "      <td>{'topCompany': ['Fortune India 500 (2019)', 'F...</td>\n",
       "      <td>1</td>\n",
       "      <td>1</td>\n",
       "      <td>0</td>\n",
       "      <td>0</td>\n",
       "      <td>0</td>\n",
       "      <td>0</td>\n",
       "      <td>0</td>\n",
       "      <td>0</td>\n",
       "      <td>...</td>\n",
       "      <td>0</td>\n",
       "      <td>0</td>\n",
       "      <td>0</td>\n",
       "      <td>0</td>\n",
       "      <td>0</td>\n",
       "      <td>0</td>\n",
       "      <td>0</td>\n",
       "      <td>0</td>\n",
       "      <td>0</td>\n",
       "      <td>0</td>\n",
       "    </tr>\n",
       "    <tr>\n",
       "      <th>4</th>\n",
       "      <td>Reliance Industries (RIL)</td>\n",
       "      <td>{'topCompany': ['Fortune India 500 (2019)', 'F...</td>\n",
       "      <td>1</td>\n",
       "      <td>0</td>\n",
       "      <td>0</td>\n",
       "      <td>0</td>\n",
       "      <td>0</td>\n",
       "      <td>0</td>\n",
       "      <td>0</td>\n",
       "      <td>0</td>\n",
       "      <td>...</td>\n",
       "      <td>0</td>\n",
       "      <td>0</td>\n",
       "      <td>0</td>\n",
       "      <td>0</td>\n",
       "      <td>0</td>\n",
       "      <td>0</td>\n",
       "      <td>0</td>\n",
       "      <td>0</td>\n",
       "      <td>0</td>\n",
       "      <td>0</td>\n",
       "    </tr>\n",
       "  </tbody>\n",
       "</table>\n",
       "<p>5 rows × 81 columns</p>\n",
       "</div>"
      ],
      "text/plain": [
       "                                  Company_Name  \\\n",
       "0                                       Unisys   \n",
       "1                                         Atos   \n",
       "2  NTT DATA Business Solutions Private Limited   \n",
       "3                                Tech Mahindra   \n",
       "4                    Reliance Industries (RIL)   \n",
       "\n",
       "                                        Company_Tags  Sum  \\\n",
       "0  {'topCompany': ['TOP'], 'businessSize': ['Fore...    1   \n",
       "1  {'primaryIndustry': ['IT Services & Consulting']}    1   \n",
       "2  {'topCompany': ['TOP'], 'businessSize': ['Fore...    1   \n",
       "3  {'topCompany': ['Fortune India 500 (2019)', 'F...    1   \n",
       "4  {'topCompany': ['Fortune India 500 (2019)', 'F...    1   \n",
       "\n",
       "   IT Services & Consulting  Software Product  Internet  E-Learning / EdTech  \\\n",
       "0                         1                 0         0                    0   \n",
       "1                         1                 0         0                    0   \n",
       "2                         1                 0         0                    0   \n",
       "3                         1                 0         0                    0   \n",
       "4                         0                 0         0                    0   \n",
       "\n",
       "   FinTech / Payments  Financial Services  Pharmaceutical & Life Sciences  \\\n",
       "0                   0                   0                               0   \n",
       "1                   0                   0                               0   \n",
       "2                   0                   0                               0   \n",
       "3                   0                   0                               0   \n",
       "4                   0                   0                               0   \n",
       "\n",
       "   ...  Content Development / Language  Import & Export  \\\n",
       "0  ...                               0                0   \n",
       "1  ...                               0                0   \n",
       "2  ...                               0                0   \n",
       "3  ...                               0                0   \n",
       "4  ...                               0                0   \n",
       "\n",
       "   Emerging Technologies  Biotechnology  Architecture / Interior Design  \\\n",
       "0                      0              0                               0   \n",
       "1                      0              0                               0   \n",
       "2                      0              0                               0   \n",
       "3                      0              0                               0   \n",
       "4                      0              0                               0   \n",
       "\n",
       "   Animation & VFX  Events / Live Entertainment  \\\n",
       "0                0                            0   \n",
       "1                0                            0   \n",
       "2                0                            0   \n",
       "3                0                            0   \n",
       "4                0                            0   \n",
       "\n",
       "   Petrochemical / Plastics / Rubber  Design  \\\n",
       "0                                  0       0   \n",
       "1                                  0       0   \n",
       "2                                  0       0   \n",
       "3                                  0       0   \n",
       "4                                  0       0   \n",
       "\n",
       "   Government / Public Administration  \n",
       "0                                   0  \n",
       "1                                   0  \n",
       "2                                   0  \n",
       "3                                   0  \n",
       "4                                   0  \n",
       "\n",
       "[5 rows x 81 columns]"
      ]
     },
     "execution_count": 8,
     "metadata": {},
     "output_type": "execute_result"
    }
   ],
   "source": [
    "df.head()"
   ]
  },
  {
   "cell_type": "code",
   "execution_count": 9,
   "metadata": {},
   "outputs": [],
   "source": [
    "cols = df.columns"
   ]
  },
  {
   "cell_type": "code",
   "execution_count": 29,
   "metadata": {},
   "outputs": [],
   "source": [
    "cols.pop(0)\n",
    "cols.pop(1)\n",
    "cols.pop(2)\n",
    "company_category = cols"
   ]
  },
  {
   "cell_type": "code",
   "execution_count": 32,
   "metadata": {},
   "outputs": [],
   "source": [
    "def create_dictionary(company_categories, dataframe):\n",
    "    master_dict = dict()\n",
    "    for cateogry in company_category:\n",
    "        master_dict[cateogry] = df.loc[df[cateogry] == 1]\n",
    "    return master_dict"
   ]
  },
  {
   "cell_type": "code",
   "execution_count": 31,
   "metadata": {},
   "outputs": [
    {
     "ename": "TypeError",
     "evalue": "create_dictionary() got an unexpected keyword argument 'cols'",
     "output_type": "error",
     "traceback": [
      "\u001b[1;31m---------------------------------------------------------------------------\u001b[0m",
      "\u001b[1;31mTypeError\u001b[0m                                 Traceback (most recent call last)",
      "\u001b[1;32mc:\\Users\\anandwal\\OneDrive - MONSTER.Com (India) Pvt Ltd\\Desktop\\Scratch\\dataframe.ipynb Cell 7\u001b[0m in \u001b[0;36m<cell line: 1>\u001b[1;34m()\u001b[0m\n\u001b[1;32m----> <a href='vscode-notebook-cell:/c%3A/Users/anandwal/OneDrive%20-%20MONSTER.Com%20%28India%29%20Pvt%20Ltd/Desktop/Scratch/dataframe.ipynb#W6sZmlsZQ%3D%3D?line=0'>1</a>\u001b[0m returned_dict \u001b[39m=\u001b[39m create_dictionary(cols\u001b[39m=\u001b[39;49mcols, dataframe\u001b[39m=\u001b[39;49m df)\n",
      "\u001b[1;31mTypeError\u001b[0m: create_dictionary() got an unexpected keyword argument 'cols'"
     ]
    }
   ],
   "source": [
    "returned_dict = create_dictionary(company_categories = company_category, dataframe= df)"
   ]
  },
  {
   "cell_type": "code",
   "execution_count": 20,
   "metadata": {},
   "outputs": [
    {
     "name": "stdout",
     "output_type": "stream",
     "text": [
      "<class 'list'>\n"
     ]
    }
   ],
   "source": [
    "for key in returned_dict.keys:\n",
    "    print(returned_dict[key].head(1))"
   ]
  },
  {
   "cell_type": "code",
   "execution_count": 23,
   "metadata": {},
   "outputs": [
    {
     "data": {
      "text/plain": [
       "False"
      ]
     },
     "execution_count": 23,
     "metadata": {},
     "output_type": "execute_result"
    }
   ],
   "source": [
    "returned_dict.keys() == cols"
   ]
  },
  {
   "cell_type": "code",
   "execution_count": 26,
   "metadata": {},
   "outputs": [],
   "source": [
    "for key in returned_dict.keys():\n",
    "    print(key)"
   ]
  },
  {
   "cell_type": "code",
   "execution_count": null,
   "metadata": {},
   "outputs": [],
   "source": []
  }
 ],
 "metadata": {
  "kernelspec": {
   "display_name": "Python 3.10.4 64-bit",
   "language": "python",
   "name": "python3"
  },
  "language_info": {
   "codemirror_mode": {
    "name": "ipython",
    "version": 3
   },
   "file_extension": ".py",
   "mimetype": "text/x-python",
   "name": "python",
   "nbconvert_exporter": "python",
   "pygments_lexer": "ipython3",
   "version": "3.10.4"
  },
  "orig_nbformat": 4,
  "vscode": {
   "interpreter": {
    "hash": "f724d1af27fa3d7efdfe69f12dd8e5f50529835b258db4eccb4204f259db0d0e"
   }
  }
 },
 "nbformat": 4,
 "nbformat_minor": 2
}
